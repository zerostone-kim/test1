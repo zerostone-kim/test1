{
  "nbformat": 4,
  "nbformat_minor": 0,
  "metadata": {
    "colab": {
      "name": "Untitled1.ipynb",
      "provenance": [],
      "collapsed_sections": [],
      "include_colab_link": true
    },
    "kernelspec": {
      "name": "python3",
      "display_name": "Python 3"
    }
  },
  "cells": [
    {
      "cell_type": "markdown",
      "metadata": {
        "id": "view-in-github",
        "colab_type": "text"
      },
      "source": [
        "<a href=\"https://colab.research.google.com/github/zerostone-kim/test1/blob/master/MovieLense.ipynb\" target=\"_parent\"><img src=\"https://colab.research.google.com/assets/colab-badge.svg\" alt=\"Open In Colab\"/></a>"
      ]
    },
    {
      "cell_type": "code",
      "metadata": {
        "id": "AcBySsIFNYQy",
        "colab_type": "code",
        "colab": {
          "base_uri": "https://localhost:8080/",
          "height": 35
        },
        "outputId": "60420b97-12b9-4923-acef-0b8a4cce795b"
      },
      "source": [
        "import pandas as pd\n",
        "\n",
        "movies = pd.read_csv('./ml-latest-small/movies.csv')\n",
        "\n",
        "print(movies)\n",
        "\n",
        "print(\"test colab\")\n"
      ],
      "execution_count": 2,
      "outputs": [
        {
          "output_type": "stream",
          "text": [
            "test colab\n"
          ],
          "name": "stdout"
        }
      ]
    },
    {
      "cell_type": "code",
      "metadata": {
        "id": "hsH5hcytQm7O",
        "colab_type": "code",
        "outputId": "ba088405-1d0b-42c5-8b4e-df1f08b3e15f",
        "colab": {
          "base_uri": "https://localhost:8080/",
          "height": 92
        }
      },
      "source": [
        "from sklearn.datasets import load_diabetes\n",
        "\n",
        "diabetes = load_diabetes()\n",
        "\n",
        "x=diabetes.data[:,2]\n",
        "y=diabetes.target\n",
        "\n",
        "w = 1.0  # 가중치 또는 기울기\n",
        "b = 1.0  # 절편\n",
        "\n",
        "y_hat = w*x[0] + b\n",
        "\n",
        "print(y_hat)\n",
        "\n",
        "print(y[0])\n",
        "\n",
        "w_inc = w + 0.1\n",
        "\n",
        "y_hat_inc = w_inc * x[0] + b\n",
        "\n",
        "print(y_hat_inc)\n",
        "\n",
        "w_rate = (y_hat_inc - y_hat) / (w_inc - w)\n",
        "\n",
        "print(w_rate)"
      ],
      "execution_count": 0,
      "outputs": [
        {
          "output_type": "stream",
          "text": [
            "1.0616962065186886\n",
            "151.0\n",
            "1.0678658271705574\n",
            "0.061696206518688734\n"
          ],
          "name": "stdout"
        }
      ]
    }
  ]
}