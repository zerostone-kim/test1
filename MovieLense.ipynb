{
  "nbformat": 4,
  "nbformat_minor": 0,
  "metadata": {
    "colab": {
      "name": "Untitled1.ipynb",
      "provenance": [],
      "collapsed_sections": [],
      "include_colab_link": true
    },
    "kernelspec": {
      "name": "python3",
      "display_name": "Python 3"
    }
  },
  "cells": [
    {
      "cell_type": "markdown",
      "metadata": {
        "id": "view-in-github",
        "colab_type": "text"
      },
      "source": [
        "<a href=\"https://colab.research.google.com/github/zerostone-kim/test1/blob/master/MovieLense.ipynb\" target=\"_parent\"><img src=\"https://colab.research.google.com/assets/colab-badge.svg\" alt=\"Open In Colab\"/></a>"
      ]
    },
    {
      "cell_type": "markdown",
      "metadata": {
        "id": "A4vhaHuJTkZ9",
        "colab_type": "text"
      },
      "source": [
        "1. GIT 에서 파일을 COLAB 으로 Clone 을 만든다\n",
        "\n",
        "2. GIT 에는 데이터 파일도 미리 업로드 함\n"
      ]
    },
    {
      "cell_type": "code",
      "metadata": {
        "id": "nyTOlg9vTh9I",
        "colab_type": "code",
        "colab": {
          "base_uri": "https://localhost:8080/",
          "height": 35
        },
        "outputId": "ba041a06-5f81-4391-e99c-72744e494f86"
      },
      "source": [
        "\n",
        "# !git clone https://github.com/zerostone-kim/test1.git\n",
        "# !ls -l\n",
        "!cd ./test1\n",
        "!ls test1"
      ],
      "execution_count": 32,
      "outputs": [
        {
          "output_type": "stream",
          "text": [
            "ml-latest-small  MovieLense.ipynb  MovieLense.py  README.md\n"
          ],
          "name": "stdout"
        }
      ]
    },
    {
      "cell_type": "markdown",
      "metadata": {
        "id": "tXr7KzHAUL-8",
        "colab_type": "text"
      },
      "source": [
        "위 명령에서 데이터 파일을 확인하고 csv 파일을 read 한다"
      ]
    },
    {
      "cell_type": "code",
      "metadata": {
        "id": "AcBySsIFNYQy",
        "colab_type": "code",
        "outputId": "0b2dd1a1-2c0f-49b1-afb6-2e066960efa1",
        "colab": {
          "base_uri": "https://localhost:8080/",
          "height": 35
        }
      },
      "source": [
        "import pandas as pd\n",
        "\n",
        "movies = pd.read_csv('test1/ml-latest-small/movies.csv')\n",
        "tags = pd.read_csv('test1/ml-latest-small/tags.csv')\n",
        "ratings = pd.read_csv('test1/ml-latest-small/ratings.csv')\n",
        "\n",
        "\n",
        "# print(ratings)\n",
        "maxrating = ratings.sort_values('rating', ascending = False).iloc[0,2]  # 첫번에 3번째 컬럼\n",
        "print(maxrating)\n",
        "# print(ratings.sort_values('rating', ascending = False))\n",
        "\n",
        "# print(tags)\n",
        "\n",
        "# print(movies.)\n",
        "\n",
        "# print(\"test colab\")\n"
      ],
      "execution_count": 53,
      "outputs": [
        {
          "output_type": "stream",
          "text": [
            "5.0\n"
          ],
          "name": "stdout"
        }
      ]
    },
    {
      "cell_type": "code",
      "metadata": {
        "id": "i7pT-dSHTYlQ",
        "colab_type": "code",
        "colab": {}
      },
      "source": [
        "# !cat /etc/issue.net\n",
        "# !cat /proc/cpuinfo\n",
        "# !cat /proc/meminfo\n",
        "# !df -h\n",
        "# !nvidia-smi\n",
        "\n",
        "# from google.colab import auth\n",
        "# auth.authenticate_user()\n",
        "\n",
        "# from google.colab import drive\n",
        "# drive.mount('/content/gdrive')\n",
        "\n",
        "# !ls -l\n",
        "# !cat adc.json\n",
        "# !cd sample_data\n",
        "\n",
        "# !git clone https://github.com/zerostone-kim/test1.git\n",
        "!ls -l\n",
        "# movies = pd.read_csv(\".\\ml-latest-small\\movies.csv\")\n",
        "\n",
        "# print(movies)\n",
        "\n",
        "# print(\"test colab\")"
      ],
      "execution_count": 0,
      "outputs": []
    },
    {
      "cell_type": "code",
      "metadata": {
        "id": "hsH5hcytQm7O",
        "colab_type": "code",
        "outputId": "ba088405-1d0b-42c5-8b4e-df1f08b3e15f",
        "colab": {
          "base_uri": "https://localhost:8080/",
          "height": 92
        }
      },
      "source": [
        "from sklearn.datasets import load_diabetes\n",
        "\n",
        "diabetes = load_diabetes()\n",
        "\n",
        "x=diabetes.data[:,2]\n",
        "y=diabetes.target\n",
        "\n",
        "w = 1.0  # 가중치 또는 기울기\n",
        "b = 1.0  # 절편\n",
        "\n",
        "y_hat = w*x[0] + b\n",
        "\n",
        "print(y_hat)\n",
        "\n",
        "print(y[0])\n",
        "\n",
        "w_inc = w + 0.1\n",
        "\n",
        "y_hat_inc = w_inc * x[0] + b\n",
        "\n",
        "print(y_hat_inc)\n",
        "\n",
        "w_rate = (y_hat_inc - y_hat) / (w_inc - w)\n",
        "\n",
        "print(w_rate)"
      ],
      "execution_count": 0,
      "outputs": [
        {
          "output_type": "stream",
          "text": [
            "1.0616962065186886\n",
            "151.0\n",
            "1.0678658271705574\n",
            "0.061696206518688734\n"
          ],
          "name": "stdout"
        }
      ]
    }
  ]
}