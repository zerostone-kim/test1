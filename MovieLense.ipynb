{
  "nbformat": 4,
  "nbformat_minor": 0,
  "metadata": {
    "colab": {
      "name": "Untitled1.ipynb",
      "provenance": [],
      "collapsed_sections": [],
      "include_colab_link": true
    },
    "kernelspec": {
      "name": "python3",
      "display_name": "Python 3"
    }
  },
  "cells": [
    {
      "cell_type": "markdown",
      "metadata": {
        "id": "view-in-github",
        "colab_type": "text"
      },
      "source": [
        "<a href=\"https://colab.research.google.com/github/zerostone-kim/test1/blob/master/MovieLense.ipynb\" target=\"_parent\"><img src=\"https://colab.research.google.com/assets/colab-badge.svg\" alt=\"Open In Colab\"/></a>"
      ]
    },
    {
      "cell_type": "markdown",
      "metadata": {
        "id": "A4vhaHuJTkZ9",
        "colab_type": "text"
      },
      "source": [
        "1. GIT 에서 파일을 COLAB 으로 Clone 을 만든다\n",
        "\n",
        "2. GIT 에는 데이터 파일도 미리 업로드 함\n"
      ]
    },
    {
      "cell_type": "code",
      "metadata": {
        "id": "nyTOlg9vTh9I",
        "colab_type": "code",
        "colab": {
          "base_uri": "https://localhost:8080/",
          "height": 35
        },
        "outputId": "ba041a06-5f81-4391-e99c-72744e494f86"
      },
      "source": [
        "\n",
        "# !git clone https://github.com/zerostone-kim/test1.git\n",
        "# !ls -l\n",
        "!cd ./test1\n",
        "!ls test1"
      ],
      "execution_count": 32,
      "outputs": [
        {
          "output_type": "stream",
          "text": [
            "ml-latest-small  MovieLense.ipynb  MovieLense.py  README.md\n"
          ],
          "name": "stdout"
        }
      ]
    },
    {
      "cell_type": "markdown",
      "metadata": {
        "id": "tXr7KzHAUL-8",
        "colab_type": "text"
      },
      "source": [
        "위 명령에서 데이터 파일을 확인하고 csv 파일을 read 한다"
      ]
    },
    {
      "cell_type": "code",
      "metadata": {
        "id": "AcBySsIFNYQy",
        "colab_type": "code",
        "outputId": "5e7eb417-1305-41b7-c0e0-c9e933ee9a93",
        "colab": {
          "base_uri": "https://localhost:8080/",
          "height": 478
        }
      },
      "source": [
        "import pandas as pd\n",
        "\n",
        "movies = pd.read_csv('test1/ml-latest-small/movies.csv')\n",
        "tags = pd.read_csv('test1/ml-latest-small/tags.csv')\n",
        "ratings = pd.read_csv('test1/ml-latest-small/ratings.csv')\n",
        "\n",
        "\n",
        "# print(ratings)\n",
        "print(ratings.columns)\n",
        "maxrating = ratings.sort_values('rating', ascending = False).iloc[0,2]  # 첫번에 3번째 컬럼\n",
        "# print(maxrating)\n",
        "print(ratings.sort_values('rating', ascending = False)['rating'] == maxrating)['userId']\n",
        "\n",
        "# print(tags)\n",
        "\n",
        "# print(movies.)\n",
        "\n",
        "# print(\"test colab\")\n"
      ],
      "execution_count": 57,
      "outputs": [
        {
          "output_type": "stream",
          "text": [
            "Index(['userId', 'movieId', 'rating', 'timestamp'], dtype='object')\n",
            "34031     True\n",
            "50717     True\n",
            "18166     True\n",
            "18165     True\n",
            "76157     True\n",
            "         ...  \n",
            "99278    False\n",
            "99277    False\n",
            "95668    False\n",
            "99269    False\n",
            "78499    False\n",
            "Name: rating, Length: 100836, dtype: bool\n"
          ],
          "name": "stdout"
        },
        {
          "output_type": "error",
          "ename": "TypeError",
          "evalue": "ignored",
          "traceback": [
            "\u001b[0;31m---------------------------------------------------------------------------\u001b[0m",
            "\u001b[0;31mTypeError\u001b[0m                                 Traceback (most recent call last)",
            "\u001b[0;32m<ipython-input-57-a0e260d1b1f7>\u001b[0m in \u001b[0;36m<module>\u001b[0;34m()\u001b[0m\n\u001b[1;32m     10\u001b[0m \u001b[0mmaxrating\u001b[0m \u001b[0;34m=\u001b[0m \u001b[0mratings\u001b[0m\u001b[0;34m.\u001b[0m\u001b[0msort_values\u001b[0m\u001b[0;34m(\u001b[0m\u001b[0;34m'rating'\u001b[0m\u001b[0;34m,\u001b[0m \u001b[0mascending\u001b[0m \u001b[0;34m=\u001b[0m \u001b[0;32mFalse\u001b[0m\u001b[0;34m)\u001b[0m\u001b[0;34m.\u001b[0m\u001b[0miloc\u001b[0m\u001b[0;34m[\u001b[0m\u001b[0;36m0\u001b[0m\u001b[0;34m,\u001b[0m\u001b[0;36m2\u001b[0m\u001b[0;34m]\u001b[0m  \u001b[0;31m# 첫번에 3번째 컬럼\u001b[0m\u001b[0;34m\u001b[0m\u001b[0;34m\u001b[0m\u001b[0m\n\u001b[1;32m     11\u001b[0m \u001b[0;31m# print(maxrating)\u001b[0m\u001b[0;34m\u001b[0m\u001b[0;34m\u001b[0m\u001b[0;34m\u001b[0m\u001b[0m\n\u001b[0;32m---> 12\u001b[0;31m \u001b[0mprint\u001b[0m\u001b[0;34m(\u001b[0m\u001b[0mratings\u001b[0m\u001b[0;34m.\u001b[0m\u001b[0msort_values\u001b[0m\u001b[0;34m(\u001b[0m\u001b[0;34m'rating'\u001b[0m\u001b[0;34m,\u001b[0m \u001b[0mascending\u001b[0m \u001b[0;34m=\u001b[0m \u001b[0;32mFalse\u001b[0m\u001b[0;34m)\u001b[0m\u001b[0;34m[\u001b[0m\u001b[0;34m'rating'\u001b[0m\u001b[0;34m]\u001b[0m \u001b[0;34m==\u001b[0m \u001b[0mmaxrating\u001b[0m\u001b[0;34m)\u001b[0m\u001b[0;34m[\u001b[0m\u001b[0;34m'userId'\u001b[0m\u001b[0;34m]\u001b[0m\u001b[0;34m\u001b[0m\u001b[0;34m\u001b[0m\u001b[0m\n\u001b[0m\u001b[1;32m     13\u001b[0m \u001b[0;34m\u001b[0m\u001b[0m\n\u001b[1;32m     14\u001b[0m \u001b[0;31m# print(tags)\u001b[0m\u001b[0;34m\u001b[0m\u001b[0;34m\u001b[0m\u001b[0;34m\u001b[0m\u001b[0m\n",
            "\u001b[0;31mTypeError\u001b[0m: 'NoneType' object is not subscriptable"
          ]
        }
      ]
    },
    {
      "cell_type": "code",
      "metadata": {
        "id": "i7pT-dSHTYlQ",
        "colab_type": "code",
        "colab": {}
      },
      "source": [
        "# !cat /etc/issue.net\n",
        "# !cat /proc/cpuinfo\n",
        "# !cat /proc/meminfo\n",
        "# !df -h\n",
        "# !nvidia-smi\n",
        "\n",
        "# from google.colab import auth\n",
        "# auth.authenticate_user()\n",
        "\n",
        "# from google.colab import drive\n",
        "# drive.mount('/content/gdrive')\n",
        "\n",
        "# !ls -l\n",
        "# !cat adc.json\n",
        "# !cd sample_data\n",
        "\n",
        "# !git clone https://github.com/zerostone-kim/test1.git\n",
        "!ls -l\n",
        "# movies = pd.read_csv(\".\\ml-latest-small\\movies.csv\")\n",
        "\n",
        "# print(movies)\n",
        "\n",
        "# print(\"test colab\")"
      ],
      "execution_count": 0,
      "outputs": []
    },
    {
      "cell_type": "code",
      "metadata": {
        "id": "hsH5hcytQm7O",
        "colab_type": "code",
        "outputId": "ba088405-1d0b-42c5-8b4e-df1f08b3e15f",
        "colab": {
          "base_uri": "https://localhost:8080/",
          "height": 92
        }
      },
      "source": [
        "from sklearn.datasets import load_diabetes\n",
        "\n",
        "diabetes = load_diabetes()\n",
        "\n",
        "x=diabetes.data[:,2]\n",
        "y=diabetes.target\n",
        "\n",
        "w = 1.0  # 가중치 또는 기울기\n",
        "b = 1.0  # 절편\n",
        "\n",
        "y_hat = w*x[0] + b\n",
        "\n",
        "print(y_hat)\n",
        "\n",
        "print(y[0])\n",
        "\n",
        "w_inc = w + 0.1\n",
        "\n",
        "y_hat_inc = w_inc * x[0] + b\n",
        "\n",
        "print(y_hat_inc)\n",
        "\n",
        "w_rate = (y_hat_inc - y_hat) / (w_inc - w)\n",
        "\n",
        "print(w_rate)"
      ],
      "execution_count": 0,
      "outputs": [
        {
          "output_type": "stream",
          "text": [
            "1.0616962065186886\n",
            "151.0\n",
            "1.0678658271705574\n",
            "0.061696206518688734\n"
          ],
          "name": "stdout"
        }
      ]
    }
  ]
}