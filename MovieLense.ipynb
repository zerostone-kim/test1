{
  "nbformat": 4,
  "nbformat_minor": 0,
  "metadata": {
    "colab": {
      "name": "Untitled1.ipynb",
      "provenance": [],
      "collapsed_sections": [],
      "include_colab_link": true
    },
    "kernelspec": {
      "name": "python3",
      "display_name": "Python 3"
    }
  },
  "cells": [
    {
      "cell_type": "markdown",
      "metadata": {
        "id": "view-in-github",
        "colab_type": "text"
      },
      "source": [
        "<a href=\"https://colab.research.google.com/github/zerostone-kim/test1/blob/master/MovieLense.ipynb\" target=\"_parent\"><img src=\"https://colab.research.google.com/assets/colab-badge.svg\" alt=\"Open In Colab\"/></a>"
      ]
    },
    {
      "cell_type": "markdown",
      "metadata": {
        "id": "xU03d9hznCqx",
        "colab_type": "text"
      },
      "source": [
        "학습 1. Github 맛보기 \n",
        "\n",
        "1. 학습 URL : https://opentutorials.org/module/4636/ \n",
        "2. 과제  \n",
        "1) 동영상강의를 듣고나서 Github 계정 생성 \n",
        "2) test1 repository 생성 \n",
        "3) 학습2의 파이썬 소스를 test1 repository에 올리고 full 경로 댓글로 등록\n",
        "\n",
        "    파이썬 파일명 : MovieLense.py\n",
        "\n",
        " \n",
        "\n",
        " \n",
        "\n",
        "학습 2.  Numpy와 Pandas를 활용한 데이터 처리\n",
        "\n",
        "1. 개요\n",
        "\n",
        "데이터 : http://files.grouplens.org/datasets/movielens/ml-latest-small.zip\n",
        "\n",
        "데이터 설명 :  http://files.grouplens.org/datasets/movielens/ml-latest-small-README.html\n",
        "\n",
        "위 파일을 다운로드 후 압축을 해제하면 나오는 파일 사용\n",
        "\n",
        "* 주의 : 데이터파일은 파이썬 파일의 하위 /ml-latest-small 로 생성하고, 모든 파일 경로는 상대경로로 작성\n",
        "\n",
        " \n",
        "\n",
        "2. 작성코드\n",
        "\n",
        "1) 사용자별 평균평점을 산출하여 제일 높은 사용자와, 제일 낮은 사용자 id 출력\n",
        "\n",
        "[출력예시]\n",
        "\n",
        "1. 최고평점 : 사용자ID (복수일 경우 사용자ID1, 사용자ID2, .....)\n",
        "\n",
        "1. 최저평점 : 사용자ID (복수일 경우 사용자ID1, 사용자ID2, .....)\n",
        "\n",
        " \n",
        "\n",
        "2. 영화별 평균평점을 산출하여 제일 높은 영화와 제일 낮은 영화의 제목을 출력\n",
        "\n",
        "[출력예시]\n",
        "\n",
        "2. 최고평점 : Dracula: Dead and Loving It (1995)  (복수일 경우 , 로 이어서 출력)\n",
        "\n",
        "2. 최저평점 : Now and Then (1995) (복수일 경우 , 로 이어서 출력)"
      ]
    },
    {
      "cell_type": "markdown",
      "metadata": {
        "id": "sDJL_G9nnI3i",
        "colab_type": "text"
      },
      "source": [
        "==================================================================="
      ]
    },
    {
      "cell_type": "markdown",
      "metadata": {
        "id": "A4vhaHuJTkZ9",
        "colab_type": "text"
      },
      "source": [
        "1. GIT 에서 파일을 COLAB 으로 Clone 을 만든다\n",
        "\n",
        "2. GIT 에는 데이터 파일도 미리 업로드 함\n"
      ]
    },
    {
      "cell_type": "code",
      "metadata": {
        "id": "nyTOlg9vTh9I",
        "colab_type": "code",
        "outputId": "860464b8-541e-4ed8-8e11-101e0d9f2dd0",
        "colab": {
          "base_uri": "https://localhost:8080/",
          "height": 197
        }
      },
      "source": [
        "\n",
        "!git clone https://github.com/zerostone-kim/test1.git\n",
        "!ls -l\n",
        "!cd ./test1\n",
        "!ls test1"
      ],
      "execution_count": 1,
      "outputs": [
        {
          "output_type": "stream",
          "text": [
            "Cloning into 'test1'...\n",
            "remote: Enumerating objects: 46, done.\u001b[K\n",
            "remote: Counting objects: 100% (46/46), done.\u001b[K\n",
            "remote: Compressing objects: 100% (43/43), done.\u001b[K\n",
            "remote: Total 46 (delta 21), reused 0 (delta 0), pack-reused 0\u001b[K\n",
            "Unpacking objects: 100% (46/46), done.\n",
            "total 8\n",
            "drwxr-xr-x 1 root root 4096 Apr  3 16:24 sample_data\n",
            "drwxr-xr-x 4 root root 4096 Apr 10 00:41 test1\n",
            "ml-latest-small  MovieLense.ipynb  MovieLense.py  README.md\n"
          ],
          "name": "stdout"
        }
      ]
    },
    {
      "cell_type": "markdown",
      "metadata": {
        "id": "tXr7KzHAUL-8",
        "colab_type": "text"
      },
      "source": [
        "위 명령에서 데이터 파일을 확인하고 csv 파일을 read 한다"
      ]
    },
    {
      "cell_type": "code",
      "metadata": {
        "id": "AcBySsIFNYQy",
        "colab_type": "code",
        "outputId": "83a49071-8ed3-40aa-a4aa-afa376990fe0",
        "colab": {
          "base_uri": "https://localhost:8080/",
          "height": 89
        }
      },
      "source": [
        "import pandas as pd\n",
        "\n",
        "movies = pd.read_csv('test1/ml-latest-small/movies.csv')\n",
        "tags = pd.read_csv('test1/ml-latest-small/tags.csv')\n",
        "ratings = pd.read_csv('test1/ml-latest-small/ratings.csv')\n",
        "\n",
        "print(ratings.columns)\n",
        "# print(ratings.describe())\n",
        "# max_rating_userId = ratings[ratings['rating'] == max_rating]\n",
        "\n",
        "# 사용자별 평균 평점\n",
        "userId_mean = ratings.groupby('userId').mean()\n",
        "max_rating = userId_mean['rating'].max()\n",
        "min_rating = userId_mean['rating'].min()\n",
        "print(userId_mean.columns)\n",
        "\n",
        "# 정리 ==============================================================================\n",
        "# Dataframe 을 select 할때  df['aaa']  =>  'aaa' 라는 column 을 나타내고 (열)\n",
        "# df['aaa':'bbb']  => 'aaa', 'bbb' 는 index 를 가르킨다  (행)\n",
        "# 만약 'aaa'라는 index 를 찾을려면 df.iloc['aaa'] 라고 해야 'aaa' 라는 인덱스를 나타냄\n",
        "# ====================================================================================\n",
        "\n",
        "\n",
        "# 특정 인덱스 값과 특정 컬럼에 있는 값 가져오기. 이는 .at을 이용할 수도 있습니다.\n",
        "\n",
        "# df.loc[dates[0],'A']\n",
        "# # 0.46911229990718628\n",
        "\n",
        "# df.at[dates[0], 'A']\n",
        "# # 0.46911229990718628\n",
        "\n",
        "# 특정 컬럼이 조건에 해당하는 대상만 산출\n",
        "# df[ df.컬럼명 == 조건 ]  예  df 내에서 aaa 컬럼이 0보다 큰것만 df[df.aaa > 0 ]\n",
        "max_rating_userId = userId_mean[userId_mean.rating == max_rating]\n",
        "min_rating_userId = userId_mean[userId_mean.rating == min_rating]\n",
        "\n",
        "# 자주까먹음... int list -> string list 변환  map(str, int형 list)\n",
        "print('1. 최고평점 userId : ' + ','.join(map(str, max_rating_userId.index.tolist())))\n",
        "print('2. 최저평점 userId: ' + ','.join(map(str, min_rating_userId.index.tolist())))  "
      ],
      "execution_count": 16,
      "outputs": [
        {
          "output_type": "stream",
          "text": [
            "Index(['userId', 'movieId', 'rating', 'timestamp'], dtype='object')\n",
            "Index(['movieId', 'rating', 'timestamp'], dtype='object')\n",
            "1. 최고평점 userId : 53\n",
            "2. 최저평점 userId: 442\n"
          ],
          "name": "stdout"
        }
      ]
    },
    {
      "cell_type": "markdown",
      "metadata": {
        "id": "a3HpdaHKnqta",
        "colab_type": "text"
      },
      "source": [
        "\n",
        "\n",
        "---\n",
        "\n",
        "\n",
        "영화별 평균평점을 산출하여 제일 높은 영화와 제일 낮은 영화의 제목을 출력\n",
        "[출력예시]\n",
        "\n",
        "최고평점 : Dracula: Dead and Loving It (1995) (복수일 경우 , 로 이어서 출력)\n",
        "\n",
        "최저평점 : Now and Then (1995) (복수일 경우 , 로 이어서 출력)"
      ]
    },
    {
      "cell_type": "code",
      "metadata": {
        "id": "i7pT-dSHTYlQ",
        "colab_type": "code",
        "colab": {
          "base_uri": "https://localhost:8080/",
          "height": 730
        },
        "outputId": "191fa17d-b258-4fba-ce65-2687747e9dc0"
      },
      "source": [
        "import pandas as pd\n",
        "\n",
        "movies = pd.read_csv('test1/ml-latest-small/movies.csv')\n",
        "tags = pd.read_csv('test1/ml-latest-small/tags.csv')\n",
        "ratings = pd.read_csv('test1/ml-latest-small/ratings.csv')\n",
        "\n",
        "print(movies.columns)\n",
        "print(tags.columns)\n",
        "print(ratings.columns)\n",
        "\n",
        "\n",
        "# pd.merge(left, right, # merge할 DataFrame 객체 이름\n",
        "#              how='inner', # left, rigth, inner (default), outer\n",
        "#              on=None, # merge의 기준이 되는 Key 변수\n",
        "#              left_on=None, # 왼쪽 DataFrame의 변수를 Key로 사용\n",
        "#              right_on=None, # 오른쪽 DataFrame의 변수를 Key로 사용\n",
        "#              left_index=False, # 만약 True 라면, 왼쪽 DataFrame의 index를 merge Key로 사용\n",
        "#              right_index=False, # 만약 True 라면, 오른쪽 DataFrame의 index를 merge Key로 사용\n",
        "#              sort=True, # merge 된 후의 DataFrame을 join Key 기준으로 정렬\n",
        "#              suffixes=('_x', '_y'), # 중복되는 변수 이름에 대해 접두사 부여 (defaults to '_x', '_y'\n",
        "#              copy=True, # merge할 DataFrame을 복사\n",
        "#              indicator=False) # 병합된 이후의 DataFrame에 left_only, right_only, both 등의 출처를 알 수 있는 부가 정보 변수 추가\n",
        "\n",
        "# movie, ratings 두개의 dataframe 을 조인하여 1개의 dataframe 로 만듦\n",
        "merge_movies_ratings = pd.merge(movies, ratings, how='inner', on='movieId')\n",
        "\n",
        "# movieId 기준의 group by 해서 rating 컬럼의 평균을 구함\n",
        "movies_rating_mean = merge_movies_ratings.groupby('movieId').mean()\n",
        "\n",
        "print(movies_rating_mean)\n",
        "# print(movies_rating_mean.max())\n",
        "\n",
        "max_rating = movies_rating_mean['rating'].max()  #.max()\n",
        "min_rating = movies_rating_mean['rating'].min()\n",
        "\n",
        "print(max_rating)\n",
        "print(min_rating)\n",
        "\n",
        "max_movie_df = movies_rating_mean[movies_rating_mean['rating'] == max_rating]\n",
        "min_movie_df = movies_rating_mean[movies_rating_mean['rating'] == min_rating]\n",
        "\n",
        "max_movie_list = pd.merge(max_movie_df, movies, how='inner', on='movieId')\n",
        "\n",
        "print(max_movie_list.title)\n",
        "\n",
        "print('3. 최고평점 : '+','.join(max_movie_list.title))\n",
        "\n",
        "# 0                                        Lamerica (1994)\n",
        "# 1                   Heidi Fleiss: Hollywood Madam (1995)\n",
        "# 2                       Awfully Big Adventure, An (1995)\n",
        "# 3                                 Live Nude Girls (1995)\n",
        "# 4      In the Realm of the Senses (Ai no corrida) (1976)\n",
        "#                              ...                        \n",
        "# 291                                         Black Mirror\n",
        "# 292                                Loving Vincent (2017)\n",
        "# 293                                Blue Planet II (2017)\n",
        "# 294                              De platte jungle (1978)\n",
        "# 295                     Won't You Be My Neighbor? (2018)\n",
        "\n",
        "# print('4. 최저평점 : '+','.join(max_movie_df.title))\n"
      ],
      "execution_count": 77,
      "outputs": [
        {
          "output_type": "stream",
          "text": [
            "Index(['movieId', 'title', 'genres'], dtype='object')\n",
            "Index(['userId', 'movieId', 'tag', 'timestamp'], dtype='object')\n",
            "Index(['userId', 'movieId', 'rating', 'timestamp'], dtype='object')\n",
            "                                             title  ...   timestamp\n",
            "movieId                                             ...            \n",
            "1                                 Toy Story (1995)  ...  1535709666\n",
            "2                                   Jumanji (1995)  ...  1529901723\n",
            "3                          Grumpier Old Men (1995)  ...  1498505071\n",
            "4                         Waiting to Exhale (1995)  ...  1237760055\n",
            "5               Father of the Bride Part II (1995)  ...  1517441319\n",
            "...                                            ...  ...         ...\n",
            "193581   Black Butler: Book of the Atlantic (2017)  ...  1537109082\n",
            "193583                No Game No Life: Zero (2017)  ...  1537109545\n",
            "193585                                Flint (2017)  ...  1537109805\n",
            "193587         Bungo Stray Dogs: Dead Apple (2018)  ...  1537110021\n",
            "193609         Andrew Dice Clay: Dice Rules (1991)  ...  1537157606\n",
            "\n",
            "[9724 rows x 5 columns]\n",
            "5.0\n",
            "0.5\n"
          ],
          "name": "stdout"
        },
        {
          "output_type": "error",
          "ename": "AttributeError",
          "evalue": "ignored",
          "traceback": [
            "\u001b[0;31m---------------------------------------------------------------------------\u001b[0m",
            "\u001b[0;31mAttributeError\u001b[0m                            Traceback (most recent call last)",
            "\u001b[0;32m<ipython-input-77-1285bb03dc41>\u001b[0m in \u001b[0;36m<module>\u001b[0;34m()\u001b[0m\n\u001b[1;32m     42\u001b[0m \u001b[0mmax_movie_list\u001b[0m \u001b[0;34m=\u001b[0m \u001b[0mpd\u001b[0m\u001b[0;34m.\u001b[0m\u001b[0mmerge\u001b[0m\u001b[0;34m(\u001b[0m\u001b[0mmax_movie_df\u001b[0m\u001b[0;34m,\u001b[0m \u001b[0mmovies\u001b[0m\u001b[0;34m,\u001b[0m \u001b[0mhow\u001b[0m\u001b[0;34m=\u001b[0m\u001b[0;34m'inner'\u001b[0m\u001b[0;34m,\u001b[0m \u001b[0mon\u001b[0m\u001b[0;34m=\u001b[0m\u001b[0;34m'movieId'\u001b[0m\u001b[0;34m)\u001b[0m\u001b[0;34m\u001b[0m\u001b[0;34m\u001b[0m\u001b[0m\n\u001b[1;32m     43\u001b[0m \u001b[0;34m\u001b[0m\u001b[0m\n\u001b[0;32m---> 44\u001b[0;31m \u001b[0mprint\u001b[0m\u001b[0;34m(\u001b[0m\u001b[0mmax_movie_list\u001b[0m\u001b[0;34m.\u001b[0m\u001b[0mtitle\u001b[0m\u001b[0;34m)\u001b[0m\u001b[0;34m\u001b[0m\u001b[0;34m\u001b[0m\u001b[0m\n\u001b[0m\u001b[1;32m     45\u001b[0m \u001b[0;34m\u001b[0m\u001b[0m\n\u001b[1;32m     46\u001b[0m \u001b[0mprint\u001b[0m\u001b[0;34m(\u001b[0m\u001b[0;34m'3. 최고평점 : '\u001b[0m\u001b[0;34m+\u001b[0m\u001b[0;34m','\u001b[0m\u001b[0;34m.\u001b[0m\u001b[0mjoin\u001b[0m\u001b[0;34m(\u001b[0m\u001b[0mmax_movie_list\u001b[0m\u001b[0;34m.\u001b[0m\u001b[0mtitle\u001b[0m\u001b[0;34m)\u001b[0m\u001b[0;34m)\u001b[0m\u001b[0;34m\u001b[0m\u001b[0;34m\u001b[0m\u001b[0m\n",
            "\u001b[0;32m/usr/local/lib/python3.6/dist-packages/pandas/core/generic.py\u001b[0m in \u001b[0;36m__getattr__\u001b[0;34m(self, name)\u001b[0m\n\u001b[1;32m   5272\u001b[0m             \u001b[0;32mif\u001b[0m \u001b[0mself\u001b[0m\u001b[0;34m.\u001b[0m\u001b[0m_info_axis\u001b[0m\u001b[0;34m.\u001b[0m\u001b[0m_can_hold_identifiers_and_holds_name\u001b[0m\u001b[0;34m(\u001b[0m\u001b[0mname\u001b[0m\u001b[0;34m)\u001b[0m\u001b[0;34m:\u001b[0m\u001b[0;34m\u001b[0m\u001b[0;34m\u001b[0m\u001b[0m\n\u001b[1;32m   5273\u001b[0m                 \u001b[0;32mreturn\u001b[0m \u001b[0mself\u001b[0m\u001b[0;34m[\u001b[0m\u001b[0mname\u001b[0m\u001b[0;34m]\u001b[0m\u001b[0;34m\u001b[0m\u001b[0;34m\u001b[0m\u001b[0m\n\u001b[0;32m-> 5274\u001b[0;31m             \u001b[0;32mreturn\u001b[0m \u001b[0mobject\u001b[0m\u001b[0;34m.\u001b[0m\u001b[0m__getattribute__\u001b[0m\u001b[0;34m(\u001b[0m\u001b[0mself\u001b[0m\u001b[0;34m,\u001b[0m \u001b[0mname\u001b[0m\u001b[0;34m)\u001b[0m\u001b[0;34m\u001b[0m\u001b[0;34m\u001b[0m\u001b[0m\n\u001b[0m\u001b[1;32m   5275\u001b[0m \u001b[0;34m\u001b[0m\u001b[0m\n\u001b[1;32m   5276\u001b[0m     \u001b[0;32mdef\u001b[0m \u001b[0m__setattr__\u001b[0m\u001b[0;34m(\u001b[0m\u001b[0mself\u001b[0m\u001b[0;34m,\u001b[0m \u001b[0mname\u001b[0m\u001b[0;34m:\u001b[0m \u001b[0mstr\u001b[0m\u001b[0;34m,\u001b[0m \u001b[0mvalue\u001b[0m\u001b[0;34m)\u001b[0m \u001b[0;34m->\u001b[0m \u001b[0;32mNone\u001b[0m\u001b[0;34m:\u001b[0m\u001b[0;34m\u001b[0m\u001b[0;34m\u001b[0m\u001b[0m\n",
            "\u001b[0;31mAttributeError\u001b[0m: 'DataFrame' object has no attribute 'title'"
          ]
        }
      ]
    },
    {
      "cell_type": "code",
      "metadata": {
        "id": "hsH5hcytQm7O",
        "colab_type": "code",
        "outputId": "ba088405-1d0b-42c5-8b4e-df1f08b3e15f",
        "colab": {
          "base_uri": "https://localhost:8080/",
          "height": 92
        }
      },
      "source": [
        "\n",
        "# print(max_rating_userId.columns)\n",
        "# print(max_rating_userId['userId'].drop_duplicates())\n",
        "\n",
        "# print(ratings[ratings['rating'] == max_rating]) #.unique())\n",
        "# print(ratings[ratings['rating'] == ratings['rating'].max()]['userId'].value)\n",
        "\n",
        "# print(ratings(ratings['rating'] >= ratings['rating'].max())['userId'])\n",
        "# print(ratings)\n",
        "# print(ratings.columns)\n",
        "# maxrating = ratings.sort_values('rating', ascending = False).iloc[0,2]  # 첫번에 3번째 컬럼\n",
        "# print(maxrating)\n",
        "# print(ratings.sort_values('rating', ascending = False)['rating'] == maxrating)['userId']\n",
        "# print(tags)\n",
        "# print(movies.)\n",
        "# print(\"test colab\")"
      ],
      "execution_count": 0,
      "outputs": [
        {
          "output_type": "stream",
          "text": [
            "1.0616962065186886\n",
            "151.0\n",
            "1.0678658271705574\n",
            "0.061696206518688734\n"
          ],
          "name": "stdout"
        }
      ]
    }
  ]
}