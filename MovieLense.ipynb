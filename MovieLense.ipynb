{
  "nbformat": 4,
  "nbformat_minor": 0,
  "metadata": {
    "colab": {
      "name": "Untitled1.ipynb",
      "provenance": [],
      "collapsed_sections": [],
      "include_colab_link": true
    },
    "kernelspec": {
      "name": "python3",
      "display_name": "Python 3"
    }
  },
  "cells": [
    {
      "cell_type": "markdown",
      "metadata": {
        "id": "view-in-github",
        "colab_type": "text"
      },
      "source": [
        "<a href=\"https://colab.research.google.com/github/zerostone-kim/test1/blob/master/MovieLense.ipynb\" target=\"_parent\"><img src=\"https://colab.research.google.com/assets/colab-badge.svg\" alt=\"Open In Colab\"/></a>"
      ]
    },
    {
      "cell_type": "markdown",
      "metadata": {
        "id": "xU03d9hznCqx",
        "colab_type": "text"
      },
      "source": [
        "학습 1. Github 맛보기 \n",
        "\n",
        "1. 학습 URL : https://opentutorials.org/module/4636/ \n",
        "2. 과제  \n",
        "1) 동영상강의를 듣고나서 Github 계정 생성 \n",
        "2) test1 repository 생성 \n",
        "3) 학습2의 파이썬 소스를 test1 repository에 올리고 full 경로 댓글로 등록\n",
        "\n",
        "    파이썬 파일명 : MovieLense.py\n",
        "\n",
        " \n",
        "\n",
        " \n",
        "\n",
        "학습 2.  Numpy와 Pandas를 활용한 데이터 처리\n",
        "\n",
        "1. 개요\n",
        "\n",
        "데이터 : http://files.grouplens.org/datasets/movielens/ml-latest-small.zip\n",
        "\n",
        "데이터 설명 :  http://files.grouplens.org/datasets/movielens/ml-latest-small-README.html\n",
        "\n",
        "위 파일을 다운로드 후 압축을 해제하면 나오는 파일 사용\n",
        "\n",
        "* 주의 : 데이터파일은 파이썬 파일의 하위 /ml-latest-small 로 생성하고, 모든 파일 경로는 상대경로로 작성\n",
        "\n",
        " \n",
        "\n",
        "2. 작성코드\n",
        "\n",
        "1) 사용자별 평균평점을 산출하여 제일 높은 사용자와, 제일 낮은 사용자 id 출력\n",
        "\n",
        "[출력예시]\n",
        "\n",
        "1. 최고평점 : 사용자ID (복수일 경우 사용자ID1, 사용자ID2, .....)\n",
        "\n",
        "1. 최저평점 : 사용자ID (복수일 경우 사용자ID1, 사용자ID2, .....)\n",
        "\n",
        " \n",
        "\n",
        "2. 영화별 평균평점을 산출하여 제일 높은 영화와 제일 낮은 영화의 제목을 출력\n",
        "\n",
        "[출력예시]\n",
        "\n",
        "2. 최고평점 : Dracula: Dead and Loving It (1995)  (복수일 경우 , 로 이어서 출력)\n",
        "\n",
        "2. 최저평점 : Now and Then (1995) (복수일 경우 , 로 이어서 출력)"
      ]
    },
    {
      "cell_type": "markdown",
      "metadata": {
        "id": "sDJL_G9nnI3i",
        "colab_type": "text"
      },
      "source": [
        "==================================================================="
      ]
    },
    {
      "cell_type": "markdown",
      "metadata": {
        "id": "A4vhaHuJTkZ9",
        "colab_type": "text"
      },
      "source": [
        "1. GIT 에서 파일을 COLAB 으로 Clone 을 만든다\n",
        "\n",
        "2. GIT 에는 데이터 파일도 미리 업로드 함\n"
      ]
    },
    {
      "cell_type": "code",
      "metadata": {
        "id": "nyTOlg9vTh9I",
        "colab_type": "code",
        "outputId": "d83aab3c-cf2d-46f2-93af-7a992ab11211",
        "colab": {
          "base_uri": "https://localhost:8080/",
          "height": 204
        }
      },
      "source": [
        "\n",
        "!git clone https://github.com/zerostone-kim/test1.git\n",
        "!ls -l\n",
        "!cd ./test1\n",
        "!ls test1"
      ],
      "execution_count": 2,
      "outputs": [
        {
          "output_type": "stream",
          "text": [
            "Cloning into 'test1'...\n",
            "remote: Enumerating objects: 61, done.\u001b[K\n",
            "remote: Counting objects:   1% (1/61)\u001b[K\rremote: Counting objects:   3% (2/61)\u001b[K\rremote: Counting objects:   4% (3/61)\u001b[K\rremote: Counting objects:   6% (4/61)\u001b[K\rremote: Counting objects:   8% (5/61)\u001b[K\rremote: Counting objects:   9% (6/61)\u001b[K\rremote: Counting objects:  11% (7/61)\u001b[K\rremote: Counting objects:  13% (8/61)\u001b[K\rremote: Counting objects:  14% (9/61)\u001b[K\rremote: Counting objects:  16% (10/61)\u001b[K\rremote: Counting objects:  18% (11/61)\u001b[K\rremote: Counting objects:  19% (12/61)\u001b[K\rremote: Counting objects:  21% (13/61)\u001b[K\rremote: Counting objects:  22% (14/61)\u001b[K\rremote: Counting objects:  24% (15/61)\u001b[K\rremote: Counting objects:  26% (16/61)\u001b[K\rremote: Counting objects:  27% (17/61)\u001b[K\rremote: Counting objects:  29% (18/61)\u001b[K\rremote: Counting objects:  31% (19/61)\u001b[K\rremote: Counting objects:  32% (20/61)\u001b[K\rremote: Counting objects:  34% (21/61)\u001b[K\rremote: Counting objects:  36% (22/61)\u001b[K\rremote: Counting objects:  37% (23/61)\u001b[K\rremote: Counting objects:  39% (24/61)\u001b[K\rremote: Counting objects:  40% (25/61)\u001b[K\rremote: Counting objects:  42% (26/61)\u001b[K\rremote: Counting objects:  44% (27/61)\u001b[K\rremote: Counting objects:  45% (28/61)\u001b[K\rremote: Counting objects:  47% (29/61)\u001b[K\rremote: Counting objects:  49% (30/61)\u001b[K\rremote: Counting objects:  50% (31/61)\u001b[K\rremote: Counting objects:  52% (32/61)\u001b[K\rremote: Counting objects:  54% (33/61)\u001b[K\rremote: Counting objects:  55% (34/61)\u001b[K\rremote: Counting objects:  57% (35/61)\u001b[K\rremote: Counting objects:  59% (36/61)\u001b[K\rremote: Counting objects:  60% (37/61)\u001b[K\rremote: Counting objects:  62% (38/61)\u001b[K\rremote: Counting objects:  63% (39/61)\u001b[K\rremote: Counting objects:  65% (40/61)\u001b[K\rremote: Counting objects:  67% (41/61)\u001b[K\rremote: Counting objects:  68% (42/61)\u001b[K\rremote: Counting objects:  70% (43/61)\u001b[K\rremote: Counting objects:  72% (44/61)\u001b[K\rremote: Counting objects:  73% (45/61)\u001b[K\rremote: Counting objects:  75% (46/61)\u001b[K\rremote: Counting objects:  77% (47/61)\u001b[K\rremote: Counting objects:  78% (48/61)\u001b[K\rremote: Counting objects:  80% (49/61)\u001b[K\rremote: Counting objects:  81% (50/61)\u001b[K\rremote: Counting objects:  83% (51/61)\u001b[K\rremote: Counting objects:  85% (52/61)\u001b[K\rremote: Counting objects:  86% (53/61)\u001b[K\rremote: Counting objects:  88% (54/61)\u001b[K\rremote: Counting objects:  90% (55/61)\u001b[K\rremote: Counting objects:  91% (56/61)\u001b[K\rremote: Counting objects:  93% (57/61)\u001b[K\rremote: Counting objects:  95% (58/61)\u001b[K\rremote: Counting objects:  96% (59/61)\u001b[K\rremote: Counting objects:  98% (60/61)\u001b[K\rremote: Counting objects: 100% (61/61)\u001b[K\rremote: Counting objects: 100% (61/61), done.\u001b[K\n",
            "remote: Compressing objects: 100% (58/58), done.\u001b[K\n",
            "remote: Total 61 (delta 30), reused 0 (delta 0), pack-reused 0\u001b[K\n",
            "Unpacking objects: 100% (61/61), done.\n",
            "total 8\n",
            "drwxr-xr-x 1 root root 4096 Apr  3 16:24 sample_data\n",
            "drwxr-xr-x 4 root root 4096 Apr 12 05:55 test1\n",
            "ml-latest-small  MovieLense.ipynb  MovieLense.py  README.md\n"
          ],
          "name": "stdout"
        }
      ]
    },
    {
      "cell_type": "markdown",
      "metadata": {
        "id": "tXr7KzHAUL-8",
        "colab_type": "text"
      },
      "source": [
        "위 명령에서 데이터 파일을 확인하고 csv 파일을 read 한다"
      ]
    },
    {
      "cell_type": "code",
      "metadata": {
        "id": "AcBySsIFNYQy",
        "colab_type": "code",
        "outputId": "72ba31f1-3950-4afc-a1d6-af19281f56f6",
        "colab": {
          "base_uri": "https://localhost:8080/",
          "height": 92
        }
      },
      "source": [
        "import pandas as pd\n",
        "\n",
        "movies = pd.read_csv('test1/ml-latest-small/movies.csv')\n",
        "tags = pd.read_csv('test1/ml-latest-small/tags.csv')\n",
        "ratings = pd.read_csv('test1/ml-latest-small/ratings.csv')\n",
        "\n",
        "print(ratings.columns)\n",
        "# print(ratings.describe())\n",
        "# max_rating_userId = ratings[ratings['rating'] == max_rating]\n",
        "\n",
        "# 사용자별 평균 평점\n",
        "userId_mean = ratings.groupby('userId').mean()\n",
        "max_rating = userId_mean['rating'].max()\n",
        "min_rating = userId_mean['rating'].min()\n",
        "print(userId_mean.columns)\n",
        "\n",
        "# 정리 ==============================================================================\n",
        "# Dataframe 을 select 할때  df['aaa']  =>  'aaa' 라는 column 을 나타내고 (열)\n",
        "# df['aaa':'bbb']  => 'aaa', 'bbb' 는 index 를 가르킨다  (행)\n",
        "# 만약 'aaa'라는 index 를 찾을려면 df.iloc['aaa'] 라고 해야 'aaa' 라는 인덱스를 나타냄\n",
        "# ====================================================================================\n",
        "\n",
        "\n",
        "# 특정 인덱스 값과 특정 컬럼에 있는 값 가져오기. 이는 .at을 이용할 수도 있습니다.\n",
        "\n",
        "# df.loc[dates[0],'A']\n",
        "# # 0.46911229990718628\n",
        "\n",
        "# df.at[dates[0], 'A']\n",
        "# # 0.46911229990718628\n",
        "\n",
        "# 특정 컬럼이 조건에 해당하는 대상만 산출\n",
        "# df[ df.컬럼명 == 조건 ]  예  df 내에서 aaa 컬럼이 0보다 큰것만 df[df.aaa > 0 ]eeee\n",
        "max_rating_userId = userId_mean[userId_mean.rating == max_rating]\n",
        "min_rating_userId = userId_mean[userId_mean.rating == min_rating]\n",
        "\n",
        "# 자주까먹음... int list -> string list 변환  map(str, int형 list)\n",
        "print('1. 최고평점 userId : ' + ','.join(map(str, max_rating_userId.index.tolist())))\n",
        "print('2. 최저평점 userId: ' + ','.join(map(str, min_rating_userId.index.tolist())))  "
      ],
      "execution_count": 3,
      "outputs": [
        {
          "output_type": "stream",
          "text": [
            "Index(['userId', 'movieId', 'rating', 'timestamp'], dtype='object')\n",
            "Index(['movieId', 'rating', 'timestamp'], dtype='object')\n",
            "1. 최고평점 userId : 53\n",
            "2. 최저평점 userId: 442\n"
          ],
          "name": "stdout"
        }
      ]
    },
    {
      "cell_type": "markdown",
      "metadata": {
        "id": "a3HpdaHKnqta",
        "colab_type": "text"
      },
      "source": [
        "\n",
        "\n",
        "---\n",
        "\n",
        "\n",
        "영화별 평균평점을 산출하여 제일 높은 영화와 제일 낮은 영화의 제목을 출력\n",
        "[출력예시]\n",
        "\n",
        "최고평점 : Dracula: Dead and Loving It (1995) (복수일 경우 , 로 이어서 출력)\n",
        "\n",
        "최저평점 : Now and Then (1995) (복수일 경우 , 로 이어서 출력)"
      ]
    },
    {
      "cell_type": "code",
      "metadata": {
        "id": "i7pT-dSHTYlQ",
        "colab_type": "code",
        "outputId": "a995efda-e053-4bba-d69c-9fc9dd0c711a",
        "colab": {
          "base_uri": "https://localhost:8080/",
          "height": 149
        }
      },
      "source": [
        "import pandas as pd\n",
        "\n",
        "movies = pd.read_csv('test1/ml-latest-small/movies.csv')\n",
        "tags = pd.read_csv('test1/ml-latest-small/tags.csv')\n",
        "ratings = pd.read_csv('test1/ml-latest-small/ratings.csv')\n",
        "\n",
        "# print(movies.columns)\n",
        "# print(tags.columns)\n",
        "print(ratings.columns)\n",
        "\n",
        "# pd.merge(left, right, # merge할 DataFrame 객체 이름\n",
        "#              how='inner', # left, rigth, inner (default), outer\n",
        "#              on=None, # merge의 기준이 되는 Key 변수\n",
        "#              left_on=None, # 왼쪽 DataFrame의 변수를 Key로 사용\n",
        "#              right_on=None, # 오른쪽 DataFrame의 변수를 Key로 사용\n",
        "#              left_index=False, # 만약 True 라면, 왼쪽 DataFrame의 index를 merge Key로 사용\n",
        "#              right_index=False, # 만약 True 라면, 오른쪽 DataFrame의 index를 merge Key로 사용\n",
        "#              sort=True, # merge 된 후의 DataFrame을 join Key 기준으로 정렬\n",
        "#              suffixes=('_x', '_y'), # 중복되는 변수 이름에 대해 접두사 부여 (defaults to '_x', '_y'\n",
        "#              copy=True, # merge할 DataFrame을 복사\n",
        "#              indicator=False) # 병합된 이후의 DataFrame에 left_only, right_only, both 등의 출처를 알 수 있는 부가 정보 변수 추가\n",
        "\n",
        "# movie, ratings 두개의 dataframe 을 조인하여 1개의 dataframe 로 만듦\n",
        "merge_movies_ratings = pd.merge(movies, ratings, how='inner', on='movieId')\n",
        "\n",
        "# movieId 기준의 group by 해서 rating 컬럼의 평균을 구함\n",
        "movies_rating_mean = merge_movies_ratings.groupby('movieId').mean()\n",
        "\n",
        "# print(movies_rating_mean)\n",
        "\n",
        "max_rating = movies_rating_mean['rating'].max()  \n",
        "min_rating = movies_rating_mean['rating'].min()\n",
        "\n",
        "print(ratings[ratings[\"movieId\"] == 99])\n",
        "\n",
        "# print(max_rating)\n",
        "# print(min_rating)\n",
        "\n",
        "max_movie_df = movies_rating_mean[movies_rating_mean['rating'] == max_rating]\n",
        "min_movie_df = movies_rating_mean[movies_rating_mean['rating'] == min_rating]\n",
        "\n",
        "# print(movies[45:100][[\"title\",\"movieId\"]])\n",
        "# print(max_movie_df)\n",
        "\n",
        "max_movie_list = pd.merge(max_movie_df, movies, left_index = True, right_on = 'movieId', how='left', copy=True)\n",
        "min_movie_list = pd.merge(min_movie_df, movies, left_index = True, right_on = 'movieId', how='left', copy=True)\n",
        "\n",
        "# print(max_movie_list.movieId)\n",
        "\n",
        "print('3. 최고평점 : '+','.join(max_movie_list.title))\n",
        "\n",
        "print('4. 최저평점 : '+','.join(min_movie_list.title))\n"
      ],
      "execution_count": 55,
      "outputs": [
        {
          "output_type": "stream",
          "text": [
            "Index(['userId', 'movieId', 'rating', 'timestamp'], dtype='object')\n",
            "       userId  movieId  rating  timestamp\n",
            "27943     191       99     5.0  829759809\n",
            "96124     603       99     5.0  954482070\n",
            "3. 최고평점 : Lamerica (1994),Heidi Fleiss: Hollywood Madam (1995),Awfully Big Adventure, An (1995),Live Nude Girls (1995),In the Realm of the Senses (Ai no corrida) (1976),What Happened Was... (1994),Thin Line Between Love and Hate, A (1996),Denise Calls Up (1995),Supercop 2 (Project S) (Chao ji ji hua) (1993),Entertaining Angels: The Dorothy Day Story (1996),Lesson Faust (1994),Hype! (1996),Vampire in Venice (Nosferatu a Venezia) (Nosferatu in Venice) (1986),Assignment, The (1997),Four Days in September (O Que É Isso, Companheiro?) (1997),Mephisto (1981),Knock Off (1998),Ballad of Narayama, The (Narayama bushiko) (1983),On the Ropes (1999),Man and a Woman, A (Un homme et une femme) (1966),Red Sorghum (Hong gao liang) (1987),Sandpiper, The (1965),Babes in Toyland (1934),My Man Godfrey (1957),Black Tar Heroin: The Dark End of the Street (2000),Jonah Who Will Be 25 in the Year 2000 (Jonas qui aura 25 ans en l'an 2000) (1976),Madame Sousatzka (1988),All the Vermeers in New York (1990),Bossa Nova (2000),Vagabond (Sans toit ni loi) (1985),Man with the Golden Arm, The (1955),Light Years (Gandahar) (1988),Duel in the Sun (1946),Five Senses, The (1999),I'm the One That I Want (2000),Slumber Party Massacre II (1987),Slumber Party Massacre III (1990),Sorority House Massacre (1986),Sorority House Massacre II (1990),Two Family House (2000),Hollywood Shuffle (1987),Monster Squad, The (1987),Reform School Girls (1986),Dr. Goldfoot and the Bikini Machine (1965),More (1998),Crossing Delancey (1988),Moscow Does Not Believe in Tears (Moskva slezam ne verit) (1979),When Worlds Collide (1951),Little Dieter Needs to Fly (1997),Going Places (Valseuses, Les) (1974),Seems Like Old Times (1980),Shogun Assassin (1980),Rain (2001),Cherish (2002),20 Million Miles to Earth (1957),The Big Bus (1976),Martin Lawrence Live: Runteldat (2002),Satin Rouge (2002),Son of the Bride (Hijo de la novia, El) (2001),Continental Divide (1981),Four Seasons, The (1981),Galaxy of Terror (Quest) (1981),Brother (Brat) (1997),Cruel Romance, A (Zhestokij Romans) (1984),American Friend, The (Amerikanische Freund, Der) (1977),I, the Jury (1982),Open Hearts (Elsker dig for evigt) (2002),Lady Jane (1986),Siam Sunset (1999),Animals are Beautiful People (1974),Belle époque (1992),Umberto D. (1952),Come and See (Idi i smotri) (1985),Alien Contamination (1980),Jane Eyre (1944),Woman Under the Influence, A (1974),Rivers and Tides (2001),King of Hearts (1966),True Stories (1986),Little Murders (1971),Into the Woods (1991),Woman Is a Woman, A (femme est une femme, Une) (1961),Story of Women (Affaire de femmes, Une) (1988),Raise Your Voice (2004),Tales of Manhattan (1942),Mr. Skeffington (1944),Unfaithfully Yours (1948),Human Condition III, The (Ningen no joken III) (1961),Advise and Consent (1962),Thousand Clowns, A (1965),Branded to Kill (Koroshi no rakuin) (1967),Passenger, The (Professione: reporter) (1975),Harlan County U.S.A. (1976),Last Hurrah for Chivalry (Hao xia) (1979),Decalogue, The (Dekalog) (1989),Sonatine (Sonachine) (1993),Stand, The (1994),Summer's Tale, A (Conte d'été) (1996),Nine Lives of Tomas Katz, The (2000),61* (2001),My Sassy Girl (Yeopgijeogin geunyeo) (2001),Battle Royale 2: Requiem (Batoru rowaiaru II: Chinkonka) (2003),'Salem's Lot (2004),Marriage of Maria Braun, The (Ehe der Maria Braun, Die) (1979),Palindromes (2004),Saving Face (2004),Calcium Kid, The (2004),Match Factory Girl, The (Tulitikkutehtaan tyttö) (1990),7 Faces of Dr. Lao (1964),Go for Zucker! (Alles auf Zucker!) (2004),9/11 (2002),Peaceful Warrior (2006),Chump at Oxford, A (1940),Ugly Duckling and Me!, The (2006),Breed, The (2006),Sun Alley (Sonnenallee) (1999),Valet, The (La doublure) (2006),Ex Drummer (2007),Watching the Detectives (2007),Che: Part One (2008),Che: Part Two (2008),Strictly Sexual (2008),Boy Eats Girl (2005),Garfield's Pet Force (2009),Eichmann (2007),Max Manus (2008),Tyler Perry's I Can Do Bad All by Myself (2009),Love Exposure (Ai No Mukidashi) (2008),Mickey's Once Upon a Christmas (1999),Meantime (1984),Dream of Light (a.k.a. Quince Tree Sun, The) (Sol del membrillo, El) (1992),Mother (Madeo) (2009),12 Angry Men (1997),Enter the Void (2009),Get Low (2009),Sisters (Syostry) (2001),Faster (2010),Down Argentine Way (1940),Zeitgeist: Moving Forward (2011),Girls About Town (1931),Scooby-Doo! Curse of the Lake Monster (2010),Connections (1978),Louis Theroux: Law & Disorder (2008),Idiots and Angels (2008),My Life as McDull (Mak dau goo si) (2001),Paper Birds (Pájaros de papel) (2010),Into the Abyss (2011),Asterix and the Vikings (Astérix et les Vikings) (2006),Happy Feet Two (2011),Dylan Moran: Monster (2004),Very Potter Sequel, A (2010),Miss Nobody (2010),Trailer Park Boys (1999),Eva (2011),Superman/Batman: Public Enemies (2009),Front of the Class (2008),Presto (2008),Goodbye Charlie (1964),Odd Life of Timothy Green, The (2012),Runaway Brain (1995) ,Holy Motors (2012),My Left Eye Sees Ghosts (Ngo joh aan gin diy gwai) (2002),English Vinglish (2012),Act of Killing, The (2012),Maniac Cop 2 (1990),Justice League: Doom (2012) ,Bill Hicks: Revelations (1993),Craig Ferguson: I'm Here To Help (2013),Mystery of the Third Planet, The (Tayna tretey planety) (1981),Only Lovers Left Alive (2013),Hunting Elephants (2013),Chinese Puzzle (Casse-tête chinois) (2013),Wonder Woman (2009),On the Other Side of the Tracks (De l'autre côté du périph) (2012),Garden of Words, The (Koto no ha no niwa) (2013),Particle Fever (2013),Colourful (Karafuru) (2010),One I Love, The (2014),Laggies (2014),Crippled Avengers (Can que) (Return of the 5 Deadly Venoms) (1981),Watermark (2014),Hellbenders (2012),National Lampoon's Bag Boy (2007),Scooby-Doo! Abracadabra-Doo (2010),Into the Forest of Fireflies' Light (2011),PK (2014),Stuart Little 3: Call of the Wild (2005),Guy X (2005),Snowflake, the White Gorilla (2011),Delirium (2014),A Flintstones Christmas Carol (1994),The Fox and the Hound 2 (2006),Trinity and Sartana Are Coming (1972),Tom Segura: Completely Normal (2014),George Carlin: It's Bad for Ya! (2008),George Carlin: Life Is Worth Losing (2005),Love and Pigeons (1985),Saving Santa (2013),Tom and Jerry: A Nutcracker Tale (2007),What Men Talk About (2010),Willy/Milly (1986),The Jinx: The Life and Deaths of Robert Durst (2015),Buzzard (2015),Seve (2014),What Love Is (2007),My Love (2006),Radio Day (2008),Bitter Lake (2015),Ghost Graduation (2012),Scooby-Doo! and the Samurai Sword (2009),Scooby-Doo! and the Loch Ness Monster (2004),Big Top Scooby-Doo! (2012),Scooby-Doo Goes Hollywood (1979),George Carlin: Back in Town (1996),George Carlin: You Are All Diseased (1999),Larry David: Curb Your Enthusiasm (1999),Tom and Jerry: Shiver Me Whiskers (2006),Kung Fu Panda: Secrets of the Masters (2011),The Eye: Infinity (2005),Villain (1971),Tokyo Tribe (2014),Return to Treasure Island (1988),Nasu: Summer in Andalusia (2003),Ooops! Noah is Gone... (2015),Hollywood Chainsaw Hookers (1988),George Carlin: Jammin' in New York (1992),Battle For Sevastopol (2015),Deathgasm (2015),12 Chairs (1976),Bloodsucking Bastards (2015),Oscar (1967),The Editor (2015),Jump In! (2007),Human (2015),L.A. Slasher (2015),Formula of Love (1984),Dragons: Gift of the Night Fury (2011),Cosmic Scrat-tastrophe (2015),The Girls (1961),The Adventures of Sherlock Holmes and Doctor Watson,The Adventures of Sherlock Holmes and Doctor Watson: The Treasures of Agra (1983),Adventures Of Sherlock Holmes And Dr. Watson: The Twentieth Century Approaches (1986),The Adventures of Sherlock Holmes and Doctor Watson: King of Blackmailers (1980),The Adventures of Sherlock Holmes and Dr. Watson: Bloody Signature (1979),Sherlock Holmes and Dr. Watson: Acquaintance (1979),A Perfect Day (2015),Lumberjack Man (2015),Spellbound (2011),Unicorn City (2012),The Love Bug (1997),Three from Prostokvashino (1978),Who Killed Chea Vichea? (2010),Ice Age: The Great Egg-Scapade (2016),Tenchi Muyô! In Love (1996),SORI: Voice from the Heart (2016),World of Glory (1991),All Yours (2016),The Bremen Town Musicians (1969),Indignation (2016),Tom Segura: Mostly Stories (2016),Moonlight,Winnie Pooh (1969),Winnie the Pooh Goes Visiting (1971),Winnie the Pooh and the Day of Concern (1972),Wings, Legs and Tails (1986),The Girl with All the Gifts (2016),Alesha Popovich and Tugarin the Dragon (2004),Junior and Karlson (1968),I Am Not Your Negro (2017),A Plasticine Crow (1981),There Once Was a Dog (1982),Death Note: Desu nôto (2006–2007),Last Year's Snow Was Falling (1983),Investigation Held by Kolobki (1986),Karlson Returns (1970),Vacations in Prostokvashino (1980),Winter in Prostokvashino (1984),Priklyucheniya Kapitana Vrungelya (1979),Tickling Giants (2017),Vovka in the Kingdom of Far Far Away (1965),A Detective Story (2003),Cheburashka (1971),Wow! A Talking Fish! (1983),Travels of an Ant (1983),Fugitives (1986),Empties (2007),Obsession (1965),Gena the Crocodile (1969),On the Trail of the Bremen Town Musicians (1973),In the blue sea, in the white foam. (1984),Bobik Visiting Barbos (1977),Black Mirror,Loving Vincent (2017),Blue Planet II (2017),De platte jungle (1978),Won't You Be My Neighbor? (2018)\n",
            "4. 최저평점 : Gypsy (1962),Killer Shrews, The (1959),Horrors of Spider Island (Ein Toter Hing im Netz) (1960),Baby Boy (2001),Cyborg (1989),3 Ninjas Knuckle Up (1995),Glitter (2001),Don't Look Now (1973),Giant Spider Invasion, The (1975),Pokemon 4 Ever (a.k.a. Pokémon 4: The Movie) (2002),The Pumaman (1980),My Bloody Valentine (1981),Pokémon Heroes (2003),Ring of Terror (1962),Born to Be Wild (1995),Dead of Night (1945),Collector, The (1965),Follow Me, Boys! (1966),Raising Cain (1992),Baxter (1989),Indestructible Man (1956),Wasp Woman, The (1959),While the City Sleeps (1956),Cincinnati Kid, The (1965),Secret Society (2002),Spy Who Came in from the Cold, The (1965),Boudu Saved From Drowning (Boudu sauvé des eaux) (1932),Carabineers, The (Carabiniers, Les) (1963),Lionheart (1990),Begotten (1990),Jesus Christ Vampire Hunter (2001),Are We There Yet? (2005),Alone in the Dark (2005),Uncle Nino (2003),Leprechaun 4: In Space (1997),Starcrash (a.k.a. Star Crash) (1978),I Know Who Killed Me (2007),Daddy Day Camp (2007),Brothers Solomon, The (2007),In the Name of the King: A Dungeon Siege Tale (2008),Zombie Strippers! (2008),Crow, The: Wicked Prayer (2005),General Died at Dawn, The (1936),The Butterfly Effect 3: Revelations (2009),Legionnaire (1998),Derailed (2002),Old Dogs (2009),Case 39 (2009),Human Centipede, The (First Sequence) (2009),Skyline (2010),Trash Humpers (2009),Amer (2009),Hard Ticket to Hawaii (1987),Films to Keep You Awake: The Christmas Tale (Películas para no dormir: Cuento de navidad) (2005),Pearl Jam Twenty (2011),Arthur Christmas (2011),Journey 2: The Mysterious Island (2012),Anaconda: The Offspring (2008),Rust and Bone (De rouille et d'os) (2012),Yongary: Monster from the Deep (1967),Captain America (1979),Captain America II: Death Too Soon (1979),3 dev adam (Three Giant Men) (1973) ,Maria Bamford: The Special Special Special! (2012),Christmas Carol, A (1977),Son of God (2014),God's Not Dead (2014),Haunted House 2, A (2014),Midnight Chronicles (2009),Tooth Fairy 2 (2012),Oblivion 2: Backlash (1996),Ben-hur (2016),The Beast of Hollow Mountain (1956),Superfast! (2015),Survivor (2015),Aloha (2015),The Star Wars Holiday Special (1978),Mortal Kombat: The Journey Begins (1995),Carnival Magic (1981),Sorrow (2015),Joe Dirt 2: Beautiful Loser (2015),War Room (2015),Saving Christmas (2014),Unforgiven (2013),Idaho Transfer (1973),Bloodsport: The Dark Kumite (1999),Risen (2016),Reptilicus (1961),Gods of Egypt (2016),Wizards of the Lost Kingdom II (1989),Satanic (2016),Bad Santa 2 (2016),Iron Man (1931),The Gracefield Incident (2015),The Emoji Movie (2017),Fullmetal Alchemist 2018 (2017)\n"
          ],
          "name": "stdout"
        }
      ]
    },
    {
      "cell_type": "code",
      "metadata": {
        "id": "hsH5hcytQm7O",
        "colab_type": "code",
        "outputId": "ba088405-1d0b-42c5-8b4e-df1f08b3e15f",
        "colab": {
          "base_uri": "https://localhost:8080/",
          "height": 92
        }
      },
      "source": [
        "\n",
        "# print(max_rating_userId.columns)\n",
        "# print(max_rating_userId['userId'].drop_duplicates())\n",
        "\n",
        "# print(ratings[ratings['rating'] == max_rating]) #.unique())\n",
        "# print(ratings[ratings['rating'] == ratings['rating'].max()]['userId'].value)\n",
        "\n",
        "# print(ratings(ratings['rating'] >= ratings['rating'].max())['userId'])\n",
        "# print(ratings)\n",
        "# print(ratings.columns)\n",
        "# maxrating = ratings.sort_values('rating', ascending = False).iloc[0,2]  # 첫번에 3번째 컬럼\n",
        "# print(maxrating)\n",
        "# print(ratings.sort_values('rating', ascending = False)['rating'] == maxrating)['userId']\n",
        "# print(tags)\n",
        "# print(movies.)\n",
        "# print(\"test colab\")"
      ],
      "execution_count": 0,
      "outputs": [
        {
          "output_type": "stream",
          "text": [
            "1.0616962065186886\n",
            "151.0\n",
            "1.0678658271705574\n",
            "0.061696206518688734\n"
          ],
          "name": "stdout"
        }
      ]
    }
  ]
}