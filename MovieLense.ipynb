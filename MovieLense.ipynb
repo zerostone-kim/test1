{
  "nbformat": 4,
  "nbformat_minor": 0,
  "metadata": {
    "colab": {
      "name": "Untitled1.ipynb",
      "provenance": [],
      "collapsed_sections": [],
      "include_colab_link": true
    },
    "kernelspec": {
      "name": "python3",
      "display_name": "Python 3"
    }
  },
  "cells": [
    {
      "cell_type": "markdown",
      "metadata": {
        "id": "view-in-github",
        "colab_type": "text"
      },
      "source": [
        "<a href=\"https://colab.research.google.com/github/zerostone-kim/test1/blob/master/MovieLense.ipynb\" target=\"_parent\"><img src=\"https://colab.research.google.com/assets/colab-badge.svg\" alt=\"Open In Colab\"/></a>"
      ]
    },
    {
      "cell_type": "markdown",
      "metadata": {
        "id": "xU03d9hznCqx",
        "colab_type": "text"
      },
      "source": [
        "학습 1. Github 맛보기 \n",
        "\n",
        "1. 학습 URL : https://opentutorials.org/module/4636/ \n",
        "2. 과제  \n",
        "1) 동영상강의를 듣고나서 Github 계정 생성 \n",
        "2) test1 repository 생성 \n",
        "3) 학습2의 파이썬 소스를 test1 repository에 올리고 full 경로 댓글로 등록\n",
        "\n",
        "    파이썬 파일명 : MovieLense.py\n",
        "\n",
        " \n",
        "\n",
        " \n",
        "\n",
        "학습 2.  Numpy와 Pandas를 활용한 데이터 처리\n",
        "\n",
        "1. 개요\n",
        "\n",
        "데이터 : http://files.grouplens.org/datasets/movielens/ml-latest-small.zip\n",
        "\n",
        "데이터 설명 :  http://files.grouplens.org/datasets/movielens/ml-latest-small-README.html\n",
        "\n",
        "위 파일을 다운로드 후 압축을 해제하면 나오는 파일 사용\n",
        "\n",
        "* 주의 : 데이터파일은 파이썬 파일의 하위 /ml-latest-small 로 생성하고, 모든 파일 경로는 상대경로로 작성\n",
        "\n",
        " \n",
        "\n",
        "2. 작성코드\n",
        "\n",
        "1) 사용자별 평균평점을 산출하여 제일 높은 사용자와, 제일 낮은 사용자 id 출력\n",
        "\n",
        "[출력예시]\n",
        "\n",
        "1. 최고평점 : 사용자ID (복수일 경우 사용자ID1, 사용자ID2, .....)\n",
        "\n",
        "1. 최저평점 : 사용자ID (복수일 경우 사용자ID1, 사용자ID2, .....)\n",
        "\n",
        " \n",
        "\n",
        "2. 영화별 평균평점을 산출하여 제일 높은 영화와 제일 낮은 영화의 제목을 출력\n",
        "\n",
        "[출력예시]\n",
        "\n",
        "2. 최고평점 : Dracula: Dead and Loving It (1995)  (복수일 경우 , 로 이어서 출력)\n",
        "\n",
        "2. 최저평점 : Now and Then (1995) (복수일 경우 , 로 이어서 출력)"
      ]
    },
    {
      "cell_type": "markdown",
      "metadata": {
        "id": "sDJL_G9nnI3i",
        "colab_type": "text"
      },
      "source": [
        "==================================================================="
      ]
    },
    {
      "cell_type": "markdown",
      "metadata": {
        "id": "A4vhaHuJTkZ9",
        "colab_type": "text"
      },
      "source": [
        "1. GIT 에서 파일을 COLAB 으로 Clone 을 만든다\n",
        "\n",
        "2. GIT 에는 데이터 파일도 미리 업로드 함\n"
      ]
    },
    {
      "cell_type": "code",
      "metadata": {
        "id": "nyTOlg9vTh9I",
        "colab_type": "code",
        "outputId": "4f188fd8-3547-4b05-c998-2adbcedca0d5",
        "colab": {
          "base_uri": "https://localhost:8080/",
          "height": 107
        }
      },
      "source": [
        "\n",
        "!git clone https://github.com/zerostone-kim/test1.git\n",
        "!ls -l\n",
        "!cd ./test1\n",
        "!ls test1"
      ],
      "execution_count": 63,
      "outputs": [
        {
          "output_type": "stream",
          "text": [
            "fatal: destination path 'test1' already exists and is not an empty directory.\n",
            "total 8\n",
            "drwxr-xr-x 1 root root 4096 Apr  3 16:24 sample_data\n",
            "drwxr-xr-x 4 root root 4096 Apr  9 05:29 test1\n",
            "ml-latest-small  MovieLense.ipynb  MovieLense.py  README.md\n"
          ],
          "name": "stdout"
        }
      ]
    },
    {
      "cell_type": "markdown",
      "metadata": {
        "id": "tXr7KzHAUL-8",
        "colab_type": "text"
      },
      "source": [
        "위 명령에서 데이터 파일을 확인하고 csv 파일을 read 한다"
      ]
    },
    {
      "cell_type": "code",
      "metadata": {
        "id": "AcBySsIFNYQy",
        "colab_type": "code",
        "outputId": "daf2d54b-9b7b-4852-b290-e8978ee19673",
        "colab": {
          "base_uri": "https://localhost:8080/",
          "height": 53
        }
      },
      "source": [
        "import pandas as pd\n",
        "\n",
        "movies = pd.read_csv('test1/ml-latest-small/movies.csv')\n",
        "tags = pd.read_csv('test1/ml-latest-small/tags.csv')\n",
        "ratings = pd.read_csv('test1/ml-latest-small/ratings.csv')\n",
        "\n",
        "# print(ratings)\n",
        "# print(ratings.describe())\n",
        "# max_rating_userId = ratings[ratings['rating'] == max_rating]\n",
        "\n",
        "# 사용자별 평균 평점\n",
        "userId_mean = ratings.groupby('userId').mean()\n",
        "max_rating = userId_mean['rating'].max()\n",
        "print(userId_mean.columns)\n",
        "\n",
        "# 정리 ==============================================================================\n",
        "# Dataframe 을 select 할때  df['aaa']  =>  'aaa' 라는 column 을 나타내고 (열)\n",
        "# df['aaa':'bbb']  => 'aaa', 'bbb' 는 index 를 가르킨다  (행)\n",
        "# 만약 'aaa'라는 index 를 찾을려면 df.iloc['aaa'] 라고 해야 'aaa' 라는 인덱스를 나타냄\n",
        "# ====================================================================================\n",
        "\n",
        "\n",
        "# 특정 인덱스 값과 특정 컬럼에 있는 값 가져오기. 이는 .at을 이용할 수도 있습니다.\n",
        "\n",
        "# df.loc[dates[0],'A']\n",
        "# # 0.46911229990718628\n",
        "\n",
        "# df.at[dates[0], 'A']\n",
        "# # 0.46911229990718628\n",
        "\n",
        "# 특정 컬럼이 조건에 해당하는 대상만 산출\n",
        "# df[ df.컬럼명 == 조건 ]  예  df 내에서 aaa 컬럼이 0보다 큰것만 df[df.aaa > 0 ]\n",
        "max_rating_userId = userId_mean[userId_mean.rating == max_rating].index\n",
        "\n",
        "print(max_rating_userId)\n",
        "\n",
        "# print(max_rating_userId.columns)\n",
        "# print(max_rating_userId['userId'].drop_duplicates())\n",
        "\n",
        "# print(ratings[ratings['rating'] == max_rating]) #.unique())\n",
        "# print(ratings[ratings['rating'] == ratings['rating'].max()]['userId'].value)\n",
        "\n",
        "# print(ratings(ratings['rating'] >= ratings['rating'].max())['userId'])\n",
        "# print(ratings)\n",
        "# print(ratings.columns)\n",
        "# maxrating = ratings.sort_values('rating', ascending = False).iloc[0,2]  # 첫번에 3번째 컬럼\n",
        "# print(maxrating)\n",
        "# print(ratings.sort_values('rating', ascending = False)['rating'] == maxrating)['userId']\n",
        "# print(tags)\n",
        "# print(movies.)\n",
        "# print(\"test colab\")"
      ],
      "execution_count": 106,
      "outputs": [
        {
          "output_type": "stream",
          "text": [
            "Index(['movieId', 'rating', 'timestamp'], dtype='object')\n",
            "Int64Index([53], dtype='int64', name='userId')\n"
          ],
          "name": "stdout"
        }
      ]
    },
    {
      "cell_type": "code",
      "metadata": {
        "id": "i7pT-dSHTYlQ",
        "colab_type": "code",
        "colab": {}
      },
      "source": [
        ""
      ],
      "execution_count": 0,
      "outputs": []
    },
    {
      "cell_type": "code",
      "metadata": {
        "id": "hsH5hcytQm7O",
        "colab_type": "code",
        "outputId": "ba088405-1d0b-42c5-8b4e-df1f08b3e15f",
        "colab": {
          "base_uri": "https://localhost:8080/",
          "height": 92
        }
      },
      "source": [
        ""
      ],
      "execution_count": 0,
      "outputs": [
        {
          "output_type": "stream",
          "text": [
            "1.0616962065186886\n",
            "151.0\n",
            "1.0678658271705574\n",
            "0.061696206518688734\n"
          ],
          "name": "stdout"
        }
      ]
    }
  ]
}